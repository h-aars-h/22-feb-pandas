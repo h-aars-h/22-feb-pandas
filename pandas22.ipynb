{
 "cells": [
  {
   "cell_type": "code",
   "execution_count": 1,
   "id": "2a410050-c008-46d8-8045-3b55e87049fd",
   "metadata": {},
   "outputs": [],
   "source": [
    "import pandas as pd \n",
    "import lxml"
   ]
  },
  {
   "cell_type": "code",
   "execution_count": 4,
   "id": "bb585cbc-e2d4-4440-90af-2a47abe73164",
   "metadata": {},
   "outputs": [],
   "source": [
    "df3=pd.read_excel(\"Book1.xlsx\")"
   ]
  },
  {
   "cell_type": "code",
   "execution_count": 53,
   "id": "086bfeda-b5ab-47dc-9fb7-feb7451abddd",
   "metadata": {},
   "outputs": [
    {
     "data": {
      "text/plain": [
       "0     4\n",
       "1     8\n",
       "2    15\n",
       "3    16\n",
       "4    23\n",
       "5    42\n",
       "Name: no., dtype: int64"
      ]
     },
     "execution_count": 53,
     "metadata": {},
     "output_type": "execute_result"
    }
   ],
   "source": [
    "# Q1. Create a Pandas Series that contains the following data: 4, 8, 15, 16, 23, and 42. Then, print the series.\n",
    "# Ans1. \n",
    "df3[\"no.\"]"
   ]
  },
  {
   "cell_type": "raw",
   "id": "9079b6fe-e1f3-4d13-ac90-9cf1a38a87d6",
   "metadata": {},
   "source": [
    "Ouput\n",
    "0     4\n",
    "1     8\n",
    "2    15\n",
    "3    16\n",
    "4    23\n",
    "5    42\n",
    "Name: no., dtype: int64"
   ]
  },
  {
   "cell_type": "code",
   "execution_count": null,
   "id": "3f8d2273-153b-4997-985d-0497d981dd4b",
   "metadata": {},
   "outputs": [],
   "source": [
    "# Q2. Create a variable of list type containing 10 elements in it, and apply pandas.Series function on the\n",
    "# variable print it.\n",
    "# Ans 2\n",
    "mylist=[1,2,3,4,5,6,7,8,9,10]\n",
    "my_series=pd.Series(mylist)\n",
    "print(my_series)"
   ]
  },
  {
   "cell_type": "raw",
   "id": "00672093-8b10-44a5-9d3c-f10110a628c8",
   "metadata": {},
   "source": [
    "0     1\n",
    "1     2\n",
    "2     3\n",
    "3     4\n",
    "4     5\n",
    "5     6\n",
    "6     7\n",
    "7     8\n",
    "8     9\n",
    "9    10\n",
    "dtype: int64"
   ]
  },
  {
   "cell_type": "code",
   "execution_count": 28,
   "id": "c4c42859-0285-4c8e-9b63-c7f11498d545",
   "metadata": {},
   "outputs": [
    {
     "data": {
      "text/html": [
       "<div>\n",
       "<style scoped>\n",
       "    .dataframe tbody tr th:only-of-type {\n",
       "        vertical-align: middle;\n",
       "    }\n",
       "\n",
       "    .dataframe tbody tr th {\n",
       "        vertical-align: top;\n",
       "    }\n",
       "\n",
       "    .dataframe thead th {\n",
       "        text-align: right;\n",
       "    }\n",
       "</style>\n",
       "<table border=\"1\" class=\"dataframe\">\n",
       "  <thead>\n",
       "    <tr style=\"text-align: right;\">\n",
       "      <th></th>\n",
       "      <th>Name</th>\n",
       "      <th>Age</th>\n",
       "      <th>Gender</th>\n",
       "    </tr>\n",
       "  </thead>\n",
       "  <tbody>\n",
       "    <tr>\n",
       "      <th>0</th>\n",
       "      <td>Alice</td>\n",
       "      <td>25</td>\n",
       "      <td>Female</td>\n",
       "    </tr>\n",
       "    <tr>\n",
       "      <th>1</th>\n",
       "      <td>Bob</td>\n",
       "      <td>30</td>\n",
       "      <td>Male</td>\n",
       "    </tr>\n",
       "    <tr>\n",
       "      <th>2</th>\n",
       "      <td>Claire</td>\n",
       "      <td>27</td>\n",
       "      <td>Female</td>\n",
       "    </tr>\n",
       "  </tbody>\n",
       "</table>\n",
       "</div>"
      ],
      "text/plain": [
       "     Name  Age  Gender\n",
       "0   Alice   25  Female\n",
       "1     Bob   30    Male\n",
       "2  Claire   27  Female"
      ]
     },
     "execution_count": 28,
     "metadata": {},
     "output_type": "execute_result"
    }
   ],
   "source": [
    "# Q3. Create a Pandas DataFrame that contains the following data:\n",
    "# Ans 3\n",
    "data={\"Name\":[\"Alice\",\"Bob\",\"Claire\"],\n",
    "       \"Age\":[25,30,27],\n",
    "       \"Gender\":[\"Female\",\"Male\",\"Female\"]}\n",
    "df=pd.DataFrame(data)\n",
    "df"
   ]
  },
  {
   "cell_type": "code",
   "execution_count": 34,
   "id": "bc3451da-ea92-4e9f-8a1f-3a2fd5bf896b",
   "metadata": {},
   "outputs": [
    {
     "data": {
      "text/plain": [
       "pandas.core.frame.DataFrame"
      ]
     },
     "execution_count": 34,
     "metadata": {},
     "output_type": "execute_result"
    }
   ],
   "source": [
    "# # Q4. What is ‘DataFrame’ in pandas and how is it different from pandas.series? Explain with an example.\n",
    "# Ans 4 = dataframe is data in table format and in pandas. and the pandas.series is the part of the data frame and the single line \n",
    "# data is called in pandas is pandas series. and whole data is called dataframe.\n",
    "# Exaple:\n",
    "#     Ans 2 is the example of pandas.series and \n",
    "#     Ans 3 is the example of pandas Dataframe \n",
    "type(my_series) #Ans 2\n",
    "# Output : pandas.core.frame.DataFrame\n",
    "type(df) #Ans 3\n",
    "# output : pandas.core.frame.DataFrame"
   ]
  },
  {
   "cell_type": "code",
   "execution_count": 40,
   "id": "cfa050e5-41d3-4322-9db5-81b8a797becc",
   "metadata": {},
   "outputs": [],
   "source": [
    "# Q5. What are some common functions you can use to manipulate data in a Pandas DataFrame? Can\n",
    "# you give an example of when you might use one of these functions?\n",
    "# Ans 5 head() and tail() this is for data top view and bottom view . \n"
   ]
  },
  {
   "cell_type": "code",
   "execution_count": 41,
   "id": "664ca3ef-6140-4b15-988e-d60ec3fd6995",
   "metadata": {},
   "outputs": [],
   "source": [
    "# Q6. Which of the following is mutable in nature Series, DataFrame, Panel?\n",
    "# Ans 6=Series and DataFrame are mutable in nature, while Panel is considered deprecated and not recommended for use in new code."
   ]
  },
  {
   "cell_type": "code",
   "execution_count": 50,
   "id": "ec637bf1-d8e3-4a0b-869e-50ab78bf4fa9",
   "metadata": {},
   "outputs": [
    {
     "data": {
      "text/html": [
       "<div>\n",
       "<style scoped>\n",
       "    .dataframe tbody tr th:only-of-type {\n",
       "        vertical-align: middle;\n",
       "    }\n",
       "\n",
       "    .dataframe tbody tr th {\n",
       "        vertical-align: top;\n",
       "    }\n",
       "\n",
       "    .dataframe thead th {\n",
       "        text-align: right;\n",
       "    }\n",
       "</style>\n",
       "<table border=\"1\" class=\"dataframe\">\n",
       "  <thead>\n",
       "    <tr style=\"text-align: right;\">\n",
       "      <th></th>\n",
       "      <th>Name</th>\n",
       "      <th>City</th>\n",
       "      <th>Age</th>\n",
       "    </tr>\n",
       "  </thead>\n",
       "  <tbody>\n",
       "    <tr>\n",
       "      <th>0</th>\n",
       "      <td>Alice</td>\n",
       "      <td>India</td>\n",
       "      <td>23</td>\n",
       "    </tr>\n",
       "    <tr>\n",
       "      <th>1</th>\n",
       "      <td>Mark</td>\n",
       "      <td>New york</td>\n",
       "      <td>40</td>\n",
       "    </tr>\n",
       "    <tr>\n",
       "      <th>2</th>\n",
       "      <td>Anuj</td>\n",
       "      <td>Paris</td>\n",
       "      <td>12</td>\n",
       "    </tr>\n",
       "  </tbody>\n",
       "</table>\n",
       "</div>"
      ],
      "text/plain": [
       "    Name      City  Age\n",
       "0  Alice     India   23\n",
       "1   Mark  New york   40\n",
       "2   Anuj     Paris   12"
      ]
     },
     "execution_count": 51,
     "metadata": {},
     "output_type": "execute_result"
    }
   ],
   "source": [
    "# Q7. Create a DataFrame using multiple Series. Explain with an example.\n",
    "# here i excuting data into a list \n",
    "name=[\"Alice\",\"Mark\",\"Anuj\"] \n",
    "# list converting into the pandas series  \n",
    "name=pd.Series(name)\n",
    "age=[23,40,12]\n",
    "age=pd.Series(age)\n",
    "city=[\"India\",\"New york\",\"Paris\"]\n",
    "city=pd.Series(city)\n",
    "# the data is merging to the data frame using dictonary and merging into the data frame in pandas \n",
    "data_frame={\"Name\":name,\"City\":city,\"Age\":age}\n",
    "data_frame_h=pd.DataFrame(data_frame)\n",
    "data_frame_h"
   ]
  },
  {
   "cell_type": "code",
   "execution_count": 44,
   "id": "4c024671-8bb1-4996-9119-de5eb765f770",
   "metadata": {},
   "outputs": [
    {
     "data": {
      "text/plain": [
       "pandas.core.series.Series"
      ]
     },
     "execution_count": 44,
     "metadata": {},
     "output_type": "execute_result"
    }
   ],
   "source": []
  },
  {
   "cell_type": "code",
   "execution_count": null,
   "id": "4fcae73a-51aa-48ba-bfc3-887087137aae",
   "metadata": {},
   "outputs": [],
   "source": []
  }
 ],
 "metadata": {
  "kernelspec": {
   "display_name": "Python 3 (ipykernel)",
   "language": "python",
   "name": "python3"
  },
  "language_info": {
   "codemirror_mode": {
    "name": "ipython",
    "version": 3
   },
   "file_extension": ".py",
   "mimetype": "text/x-python",
   "name": "python",
   "nbconvert_exporter": "python",
   "pygments_lexer": "ipython3",
   "version": "3.10.6"
  }
 },
 "nbformat": 4,
 "nbformat_minor": 5
}
